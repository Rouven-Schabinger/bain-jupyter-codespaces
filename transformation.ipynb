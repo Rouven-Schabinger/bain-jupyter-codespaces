{
 "cells": [
  {
   "cell_type": "code",
   "execution_count": 1,
   "id": "a706a7a9",
   "metadata": {},
   "outputs": [],
   "source": [
    "import os\n",
    "from lxml import etree"
   ]
  },
  {
   "cell_type": "code",
   "execution_count": 2,
   "id": "42e7a2a6-266e-4f65-a2e9-8a6175546f54",
   "metadata": {},
   "outputs": [
    {
     "name": "stdout",
     "output_type": "stream",
     "text": [
      "Transformation complete. Output saved to output/dspace-oai-dc_transformed.xml\n"
     ]
    }
   ],
   "source": [
    "# Load the XML file\n",
    "xml_file = 'example/dspace-oai-dc.xml'\n",
    "xml_tree = etree.parse(xml_file)\n",
    "\n",
    "# Load the XSLT file\n",
    "xslt_file = 'xsl/DC2MARC21slim.xsl'\n",
    "xslt_tree = etree.parse(xslt_file)\n",
    "\n",
    "# Perform the transformation\n",
    "transform = etree.XSLT(xslt_tree)\n",
    "result_tree = transform(xml_tree)\n",
    "\n",
    "# Create the output directory if it doesn't exist\n",
    "output_dir = 'output'\n",
    "os.makedirs(output_dir, exist_ok=True)\n",
    "\n",
    "# Generate the output filename\n",
    "base_name = os.path.basename(xml_file)\n",
    "name, ext = os.path.splitext(base_name)\n",
    "output_file = os.path.join(output_dir, f'{name}_transformed{ext}')\n",
    "\n",
    "# Save the result to the new file\n",
    "result_tree.write(output_file, pretty_print=True, xml_declaration=True, encoding='UTF-8')\n",
    "\n",
    "print(f'Transformation complete. Output saved to {output_file}')"
   ]
  },
  {
   "cell_type": "code",
   "execution_count": 5,
   "id": "06486a0a",
   "metadata": {},
   "outputs": [
    {
     "name": "stdout",
     "output_type": "stream",
     "text": [
      "Transformation complete. Output saved to output/archivesspace-ead_transformed.xml\n"
     ]
    }
   ],
   "source": [
    "\n",
    "# Load the XML file\n",
    "xml_file = 'example/archivesspace-ead.xml'\n",
    "xml_tree = etree.parse(xml_file)\n",
    "\n",
    "# Load the XSLT file\n",
    "xslt_file = 'xsl/EAD2MARC21_own.xsl'\n",
    "xslt_tree = etree.parse(xslt_file)\n",
    "\n",
    "# Perform the transformation\n",
    "transform = etree.XSLT(xslt_tree)\n",
    "result_tree = transform(xml_tree)\n",
    "\n",
    "# Create the output directory if it doesn't exist\n",
    "output_dir = 'output'\n",
    "os.makedirs(output_dir, exist_ok=True)\n",
    "\n",
    "# Generate the output filename\n",
    "base_name = os.path.basename(xml_file)\n",
    "name, ext = os.path.splitext(base_name)\n",
    "output_file = os.path.join(output_dir, f'{name}_transformed{ext}')\n",
    "\n",
    "# Save the result to the new file\n",
    "result_tree.write(output_file, pretty_print=True, xml_declaration=True, encoding='UTF-8')\n",
    "\n",
    "print(f'Transformation complete. Output saved to {output_file}')"
   ]
  },
  {
   "cell_type": "code",
   "execution_count": null,
   "id": "d4b39a47",
   "metadata": {},
   "outputs": [],
   "source": []
  }
 ],
 "metadata": {
  "kernelspec": {
   "display_name": "Python 3 (ipykernel)",
   "language": "python",
   "name": "python3"
  },
  "language_info": {
   "codemirror_mode": {
    "name": "ipython",
    "version": 3
   },
   "file_extension": ".py",
   "mimetype": "text/x-python",
   "name": "python",
   "nbconvert_exporter": "python",
   "pygments_lexer": "ipython3",
   "version": "3.12.1"
  },
  "toc": {
   "base_numbering": 1,
   "nav_menu": {},
   "number_sections": true,
   "sideBar": true,
   "skip_h1_title": false,
   "title_cell": "Table of Contents",
   "title_sidebar": "Contents",
   "toc_cell": false,
   "toc_position": {},
   "toc_section_display": true,
   "toc_window_display": false
  }
 },
 "nbformat": 4,
 "nbformat_minor": 5
}
