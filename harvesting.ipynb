{
 "cells": [
  {
   "cell_type": "code",
   "execution_count": 2,
   "id": "307702c1",
   "metadata": {},
   "outputs": [],
   "source": [
    "import os\n",
    "import time\n",
    "from sickle import Sickle"
   ]
  },
  {
   "cell_type": "markdown",
   "id": "b3203ad3",
   "metadata": {},
   "source": [
    "# Alma"
   ]
  },
  {
   "cell_type": "code",
   "execution_count": null,
   "id": "3ec9b3ca",
   "metadata": {},
   "outputs": [],
   "source": [
    "\n",
    "# OAI\n",
    "url = 'https://slsp-hph-psb.alma.exlibrisgroup.com/view/oai/41SLSP_HPH/request'\n",
    "output_dir = 'test-alma'\n",
    "metadata_prefix = ''\n",
    "set_spec = 'SLSP_FHGR'\n",
    "\n",
    "# Create a Sickle instance\n",
    "sickle = Sickle(url)\n",
    "os.makedirs(output_dir, exist_ok=True)\n",
    "\n",
    "# Harvest records\n",
    "print(\"Starting to harvest records...\")\n",
    "\n",
    "records = sickle.ListRecords(metadataPrefix=metadata_prefix, set=set_spec)\n",
    "\n",
    "for record_count, record in enumerate(records, start=1):\n",
    "    timestamp = int(time.time())\n",
    "    unique_id = record.header.identifier.split(':')[-1]\n",
    "    # Create the file name using the timestamp and unique identifier\n",
    "    file_name = f\"{timestamp}_ALMA_OAI_TEST_{unique_id}.xml\"\n",
    "    file_path = os.path.join(output_dir, file_name)\n",
    "    # Write the record to the file\n",
    "    with open(file_path, 'w', encoding='utf-8') as file:\n",
    "        file.write(record.raw)\n",
    "    print(f\"Saved record as {file_name}\")\n",
    "\n",
    "print(\"Harvesting completed successfully.\")"
   ]
  },
  {
   "cell_type": "markdown",
   "id": "1c226b26",
   "metadata": {},
   "source": [
    "# ArchiveSpace"
   ]
  },
  {
   "cell_type": "code",
   "execution_count": null,
   "id": "4dc3012a",
   "metadata": {},
   "outputs": [],
   "source": [
    "\n",
    "# OAI Spezifika\n",
    "url = 'https://sandbox.archivesspace.org/oai'\n",
    "output_dir = 'test-archivesspace'\n",
    "metadata_prefix=''\n",
    "\n",
    "# Create a Sickle instance\n",
    "sickle = Sickle(url)\n",
    "os.makedirs(output_dir, exist_ok=True)\n",
    "\n",
    "\n",
    "# Harvest records\n",
    "print(\"Starting to harvest records...\")\n",
    "records = sickle.ListRecords(metadataPrefix=metadata_prefix)\n",
    "\n",
    "for record in records:\n",
    "    timestamp = int(time.time())\n",
    "    unique_id = record.header.identifier.split(':')[-1]\n",
    "    # Sanitize the unique_id to remove or replace invalid characters\n",
    "    sanitized_unique_id = unique_id.replace('/', '_')\n",
    "    file_name = f\"{timestamp}_ARCHIVESSPACE_OAI_{sanitized_unique_id}.xml\"\n",
    "    file_path = os.path.join(output_dir, file_name)\n",
    "    with open(file_path, 'w', encoding='utf-8') as file:\n",
    "        file.write(record.raw)\n",
    "    print(f\"Saved record as {file_name}\")\n",
    "\n",
    "print(\"Harvesting completed successfully.\")"
   ]
  },
  {
   "cell_type": "markdown",
   "id": "7ab31c3b",
   "metadata": {},
   "source": [
    "# DSpace"
   ]
  },
  {
   "cell_type": "code",
   "execution_count": null,
   "id": "6c8f202b",
   "metadata": {},
   "outputs": [],
   "source": [
    "\n",
    "\n",
    "# Define the OAI-PMH endpoint\n",
    "url = 'https://demo.dspace.org/oai/request'\n",
    "output_dir = 'test-dspace'\n",
    "metadata_prefix=''\n",
    "\n",
    "# Create a Sickle instance\n",
    "sickle = Sickle(url)\n",
    "os.makedirs(output_dir, exist_ok=True)\n",
    "\n",
    "\n",
    "# Harvest records\n",
    "print(\"Starting to harvest records...\")\n",
    "records = sickle.ListRecords(metadataPrefix=metadata_prefix)\n",
    "\n",
    "for record in records:\n",
    "    timestamp = int(time.time())\n",
    "    unique_id = record.header.identifier.split(':')[-1]\n",
    "    # Sanitize the unique_id to remove or replace invalid characters\n",
    "    sanitized_unique_id = unique_id.replace('/', '_')\n",
    "    file_name = f\"{timestamp}_DSPACE_OAI_{sanitized_unique_id}.xml\"\n",
    "    file_path = os.path.join(output_dir, file_name)\n",
    "    with open(file_path, 'w', encoding='utf-8') as file:\n",
    "        file.write(record.raw)\n",
    "    print(f\"Saved record as {file_name}\")\n",
    "\n",
    "print(\"Harvesting completed successfully.\")"
   ]
  },
  {
   "cell_type": "markdown",
   "id": "3e53d41c",
   "metadata": {},
   "source": [
    "# Koha [Backup]"
   ]
  },
  {
   "cell_type": "code",
   "execution_count": null,
   "id": "6a724d1f",
   "metadata": {},
   "outputs": [],
   "source": [
    "# Define the OAI-PMH endpoint\n",
    "url = 'https://koha.adminkuhn.ch/cgi-bin/koha/oai.pl'\n",
    "\n",
    "# Create a Sickle instance\n",
    "sickle = Sickle(url)\n",
    "\n",
    "# Harvest records with the specified metadata prefix\n",
    "records = sickle.ListRecords(metadataPrefix='marc21')\n",
    "\n",
    "# Create the output directory if it doesn't exist\n",
    "output_dir = 'test-koha'\n",
    "os.makedirs(output_dir, exist_ok=True)\n",
    "\n",
    "# Save each record to a separate file with an improved naming scheme\n",
    "for i, record in enumerate(records):\n",
    "    timestamp = int(time.time())\n",
    "    unique_id = record.header.identifier.split(':')[-1]\n",
    "    file_name = f\"{timestamp}_KOHA_OAI_TEST_{unique_id}.xml\"\n",
    "    file_path = os.path.join(output_dir, file_name)\n",
    "    with open(file_path, 'w', encoding='utf-8') as file:\n",
    "        file.write(record.raw)"
   ]
  }
 ],
 "metadata": {
  "kernelspec": {
   "display_name": "Python 3",
   "language": "python",
   "name": "python3"
  },
  "language_info": {
   "codemirror_mode": {
    "name": "ipython",
    "version": 3
   },
   "file_extension": ".py",
   "mimetype": "text/x-python",
   "name": "python",
   "nbconvert_exporter": "python",
   "pygments_lexer": "ipython3",
   "version": "3.12.1"
  },
  "toc": {
   "base_numbering": 1,
   "nav_menu": {},
   "number_sections": true,
   "sideBar": true,
   "skip_h1_title": false,
   "title_cell": "Table of Contents",
   "title_sidebar": "Contents",
   "toc_cell": false,
   "toc_position": {},
   "toc_section_display": true,
   "toc_window_display": false
  }
 },
 "nbformat": 4,
 "nbformat_minor": 5
}
